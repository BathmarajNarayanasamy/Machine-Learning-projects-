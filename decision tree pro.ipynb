{
 "cells": [
  {
   "cell_type": "code",
   "execution_count": 33,
   "id": "1b9bca2d",
   "metadata": {},
   "outputs": [],
   "source": [
    "import pandas as pd\n",
    "import numpy as np\n",
    "import matplotlib.pyplot as plt\n",
    "from sklearn.metrics import confusion_matrix\n",
    "from sklearn.model_selection import train_test_split\n",
    "from sklearn.tree import DecisionTreeClassifier\n",
    "from sklearn.metrics import accuracy_score,classification_report"
   ]
  },
  {
   "cell_type": "code",
   "execution_count": 56,
   "id": "f6c77c4f",
   "metadata": {},
   "outputs": [],
   "source": [
    "def importdata():\n",
    "    balance_data=pd.read_csv(r'C:\\Users\\bathma\\Desktop\\stocktree.csv')\n",
    "    print('length of the data set is:',len(balance_data))\n",
    "    print('shape of the data set is:',balance_data.shape)\n",
    "    print('Top 5 records of the data set is:',balance_data.head())\n",
    "    return balance_data"
   ]
  },
  {
   "cell_type": "code",
   "execution_count": 57,
   "id": "6e24efc3",
   "metadata": {},
   "outputs": [],
   "source": [
    "def split_data(balance_data):\n",
    "    X=balance_data.values[:,1:5]\n",
    "    y=balance_data.values[:,0]\n",
    "    Xtrain,Xtest,ytrain,ytest=train_test_split(X,y,test_size=0.30,random_state=1)\n",
    "    return X,y,Xtrain,Xtest,ytrain,ytest"
   ]
  },
  {
   "cell_type": "code",
   "execution_count": 58,
   "id": "db0f4ed5",
   "metadata": {},
   "outputs": [],
   "source": [
    "def train_using_gini(Xtrain,Xtest,ytrain):\n",
    "    clfr_gini=DecisionTreeClassifier (criterion='gini',random_state=1,max_depth=3,min_samples_leaf=5)\n",
    "    clfr_gini.fit(Xtrain,ytrain)\n",
    "    return clfr_gini"
   ]
  },
  {
   "cell_type": "code",
   "execution_count": 59,
   "id": "4e14dee0",
   "metadata": {},
   "outputs": [],
   "source": [
    "def train_using_entropy(Xtrain,Xtext,ytrain):\n",
    "    clfr_entropy=DecisionTreeClassifier(criterion='entropy',random_state=1,max_depth=3,min_samples_leaf=5)\n",
    "    clfr_entropy.fit(Xtrain,ytrain)\n",
    "    return clfr_entropy"
   ]
  },
  {
   "cell_type": "code",
   "execution_count": 60,
   "id": "19d480e7",
   "metadata": {},
   "outputs": [],
   "source": [
    "def predection(Xtest,clfr_object):\n",
    "    ypre=clfr_object.predict(Xtest)\n",
    "    print('Predicted values are')\n",
    "    print(ypre)\n",
    "    return ypre"
   ]
  },
  {
   "cell_type": "code",
   "execution_count": 61,
   "id": "28eb396b",
   "metadata": {},
   "outputs": [],
   "source": [
    "def cal_accuracy(ytest,ypre):\n",
    "    print('confusion matrix score is',confusion_matrix(ytest,ypre))\n",
    "    print('accuracy score is',accuracy_score(ytest,ypre)*100)\n",
    "    print('classification report is',classification_report(ytest,ypre))"
   ]
  },
  {
   "cell_type": "code",
   "execution_count": 62,
   "id": "7e860a12",
   "metadata": {},
   "outputs": [],
   "source": [
    "def driver():\n",
    "    data=importdata()\n",
    "    X,y,Xtrain,Xtest,ytrain,ytest=split_data(data)\n",
    "    clfr_gini=train_using_gini(Xtrain,Xtest,ytrain)\n",
    "    clfr_entropy=train_using_entropy(Xtrain,Xtest,ytrain)\n",
    "    print('Result of using gini index')\n",
    "    \n",
    "    ypre_gini=predection(Xtest,clfr_gini)\n",
    "    cal_accuracy(ytest,ypre_gini)\n",
    "    print ('Result of using entropy')\n",
    "    \n",
    "    ypre_entropy=predection(Xtest,clfr_entropy)\n",
    "    cal_accuracy(ytest,ypre_entropy)"
   ]
  },
  {
   "cell_type": "code",
   "execution_count": 63,
   "id": "ecb4436c",
   "metadata": {},
   "outputs": [
    {
     "name": "stdout",
     "output_type": "stream",
     "text": [
      "length of the data set is: 918\n",
      "shape of the data set is: (918, 6)\n",
      "Top 5 records of the data set is:   ExerciseAngina  Age  RestingBP  Cholesterol  MaxHR  HeartDisease\n",
      "0              N   40        140          289    172             0\n",
      "1              N   49        160          180    156             1\n",
      "2              N   37        130          283     98             0\n",
      "3              Y   48        138          214    108             1\n",
      "4              N   54        150          195    122             0\n",
      "Result of using gini index\n",
      "Predicted values are\n",
      "['N' 'N' 'Y' 'Y' 'Y' 'Y' 'N' 'Y' 'N' 'N' 'N' 'N' 'N' 'N' 'Y' 'N' 'N' 'N'\n",
      " 'Y' 'Y' 'N' 'N' 'N' 'N' 'N' 'N' 'N' 'N' 'Y' 'N' 'N' 'Y' 'Y' 'N' 'N' 'N'\n",
      " 'N' 'Y' 'N' 'N' 'Y' 'N' 'N' 'N' 'N' 'N' 'Y' 'Y' 'N' 'N' 'Y' 'Y' 'Y' 'N'\n",
      " 'N' 'N' 'N' 'N' 'N' 'N' 'N' 'N' 'N' 'N' 'N' 'Y' 'N' 'N' 'N' 'Y' 'N' 'N'\n",
      " 'Y' 'Y' 'N' 'N' 'N' 'Y' 'Y' 'N' 'N' 'N' 'N' 'N' 'N' 'Y' 'Y' 'N' 'N' 'N'\n",
      " 'Y' 'N' 'N' 'N' 'N' 'Y' 'Y' 'N' 'N' 'N' 'N' 'N' 'Y' 'Y' 'Y' 'N' 'N' 'Y'\n",
      " 'Y' 'N' 'N' 'N' 'N' 'N' 'Y' 'N' 'N' 'N' 'N' 'Y' 'Y' 'Y' 'N' 'N' 'N' 'N'\n",
      " 'N' 'N' 'N' 'N' 'N' 'Y' 'N' 'Y' 'N' 'Y' 'Y' 'N' 'N' 'Y' 'N' 'N' 'N' 'N'\n",
      " 'Y' 'N' 'N' 'Y' 'N' 'Y' 'Y' 'N' 'N' 'N' 'N' 'N' 'N' 'N' 'N' 'Y' 'N' 'N'\n",
      " 'N' 'Y' 'N' 'N' 'N' 'Y' 'Y' 'N' 'N' 'N' 'Y' 'N' 'N' 'Y' 'N' 'N' 'N' 'N'\n",
      " 'N' 'N' 'N' 'N' 'N' 'N' 'Y' 'N' 'N' 'N' 'N' 'N' 'N' 'N' 'N' 'N' 'N' 'Y'\n",
      " 'Y' 'Y' 'N' 'N' 'N' 'N' 'N' 'N' 'N' 'N' 'N' 'N' 'Y' 'N' 'Y' 'N' 'N' 'N'\n",
      " 'N' 'N' 'Y' 'Y' 'N' 'Y' 'N' 'N' 'N' 'N' 'N' 'N' 'N' 'N' 'Y' 'N' 'N' 'N'\n",
      " 'N' 'Y' 'Y' 'Y' 'N' 'N' 'N' 'N' 'Y' 'N' 'N' 'N' 'N' 'N' 'N' 'N' 'N' 'Y'\n",
      " 'N' 'N' 'N' 'Y' 'Y' 'Y' 'N' 'N' 'N' 'N' 'Y' 'N' 'N' 'N' 'N' 'N' 'Y' 'N'\n",
      " 'Y' 'N' 'N' 'Y' 'Y' 'N']\n",
      "confusion matrix score is [[136  24]\n",
      " [ 64  52]]\n",
      "accuracy score is 68.11594202898551\n",
      "classification report is               precision    recall  f1-score   support\n",
      "\n",
      "           N       0.68      0.85      0.76       160\n",
      "           Y       0.68      0.45      0.54       116\n",
      "\n",
      "    accuracy                           0.68       276\n",
      "   macro avg       0.68      0.65      0.65       276\n",
      "weighted avg       0.68      0.68      0.67       276\n",
      "\n",
      "Result of using entropy\n",
      "Predicted values are\n",
      "['N' 'Y' 'Y' 'Y' 'Y' 'Y' 'N' 'Y' 'Y' 'N' 'N' 'N' 'N' 'Y' 'Y' 'N' 'Y' 'Y'\n",
      " 'Y' 'Y' 'Y' 'N' 'Y' 'N' 'N' 'Y' 'N' 'Y' 'Y' 'N' 'N' 'Y' 'Y' 'N' 'N' 'Y'\n",
      " 'Y' 'Y' 'N' 'N' 'Y' 'N' 'Y' 'Y' 'N' 'N' 'Y' 'Y' 'N' 'Y' 'Y' 'Y' 'Y' 'N'\n",
      " 'Y' 'Y' 'N' 'N' 'Y' 'Y' 'Y' 'N' 'N' 'Y' 'Y' 'Y' 'Y' 'Y' 'N' 'Y' 'Y' 'N'\n",
      " 'Y' 'Y' 'Y' 'Y' 'N' 'Y' 'Y' 'Y' 'Y' 'Y' 'Y' 'N' 'Y' 'Y' 'Y' 'N' 'N' 'N'\n",
      " 'Y' 'Y' 'N' 'Y' 'Y' 'Y' 'Y' 'N' 'N' 'N' 'N' 'N' 'Y' 'Y' 'Y' 'N' 'N' 'Y'\n",
      " 'Y' 'N' 'N' 'N' 'Y' 'N' 'Y' 'N' 'Y' 'N' 'N' 'Y' 'Y' 'Y' 'Y' 'N' 'Y' 'Y'\n",
      " 'N' 'N' 'N' 'N' 'N' 'Y' 'N' 'Y' 'Y' 'Y' 'Y' 'N' 'N' 'Y' 'Y' 'N' 'N' 'N'\n",
      " 'Y' 'N' 'Y' 'Y' 'N' 'Y' 'Y' 'Y' 'N' 'N' 'N' 'N' 'N' 'Y' 'N' 'Y' 'N' 'N'\n",
      " 'N' 'Y' 'N' 'Y' 'N' 'Y' 'Y' 'N' 'N' 'N' 'Y' 'Y' 'N' 'Y' 'N' 'N' 'Y' 'N'\n",
      " 'N' 'N' 'N' 'N' 'Y' 'N' 'Y' 'N' 'Y' 'Y' 'Y' 'N' 'Y' 'N' 'N' 'N' 'Y' 'Y'\n",
      " 'Y' 'Y' 'Y' 'Y' 'Y' 'Y' 'N' 'N' 'N' 'Y' 'N' 'N' 'Y' 'Y' 'Y' 'Y' 'N' 'N'\n",
      " 'N' 'N' 'Y' 'Y' 'N' 'Y' 'Y' 'Y' 'Y' 'N' 'Y' 'N' 'N' 'N' 'Y' 'N' 'N' 'N'\n",
      " 'Y' 'Y' 'Y' 'Y' 'N' 'Y' 'N' 'N' 'Y' 'N' 'Y' 'Y' 'N' 'Y' 'N' 'N' 'N' 'Y'\n",
      " 'N' 'N' 'N' 'Y' 'Y' 'Y' 'N' 'N' 'N' 'N' 'Y' 'N' 'Y' 'N' 'N' 'N' 'Y' 'N'\n",
      " 'Y' 'N' 'N' 'Y' 'Y' 'N']\n",
      "confusion matrix score is [[101  59]\n",
      " [ 29  87]]\n",
      "accuracy score is 68.11594202898551\n",
      "classification report is               precision    recall  f1-score   support\n",
      "\n",
      "           N       0.78      0.63      0.70       160\n",
      "           Y       0.60      0.75      0.66       116\n",
      "\n",
      "    accuracy                           0.68       276\n",
      "   macro avg       0.69      0.69      0.68       276\n",
      "weighted avg       0.70      0.68      0.68       276\n",
      "\n"
     ]
    }
   ],
   "source": [
    "if __name__=='__main__':\n",
    "    driver()"
   ]
  },
  {
   "cell_type": "code",
   "execution_count": null,
   "id": "5287b073",
   "metadata": {},
   "outputs": [],
   "source": []
  },
  {
   "cell_type": "code",
   "execution_count": null,
   "id": "827d5394",
   "metadata": {},
   "outputs": [],
   "source": []
  },
  {
   "cell_type": "code",
   "execution_count": null,
   "id": "3539e51e",
   "metadata": {},
   "outputs": [],
   "source": []
  },
  {
   "cell_type": "code",
   "execution_count": null,
   "id": "33bd0008",
   "metadata": {},
   "outputs": [],
   "source": []
  },
  {
   "cell_type": "code",
   "execution_count": null,
   "id": "a3b83110",
   "metadata": {},
   "outputs": [],
   "source": []
  },
  {
   "cell_type": "code",
   "execution_count": null,
   "id": "81ccd5c6",
   "metadata": {},
   "outputs": [],
   "source": []
  },
  {
   "cell_type": "code",
   "execution_count": null,
   "id": "d8cf4377",
   "metadata": {},
   "outputs": [],
   "source": []
  },
  {
   "cell_type": "code",
   "execution_count": null,
   "id": "5ef85b3c",
   "metadata": {},
   "outputs": [],
   "source": []
  },
  {
   "cell_type": "code",
   "execution_count": null,
   "id": "cfd3c5ba",
   "metadata": {},
   "outputs": [],
   "source": []
  }
 ],
 "metadata": {
  "kernelspec": {
   "display_name": "Python 3 (ipykernel)",
   "language": "python",
   "name": "python3"
  },
  "language_info": {
   "codemirror_mode": {
    "name": "ipython",
    "version": 3
   },
   "file_extension": ".py",
   "mimetype": "text/x-python",
   "name": "python",
   "nbconvert_exporter": "python",
   "pygments_lexer": "ipython3",
   "version": "3.9.7"
  }
 },
 "nbformat": 4,
 "nbformat_minor": 5
}
