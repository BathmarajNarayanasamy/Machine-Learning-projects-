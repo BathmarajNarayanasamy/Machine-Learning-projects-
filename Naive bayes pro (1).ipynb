{
 "cells": [
  {
   "cell_type": "code",
   "execution_count": 32,
   "id": "1f3ee15e",
   "metadata": {},
   "outputs": [],
   "source": [
    "import numpy as np\n",
    "import pandas as pd\n",
    "import matplotlib.pyplot as plt \n",
    "from sklearn.naive_bayes import GaussianNB"
   ]
  },
  {
   "cell_type": "code",
   "execution_count": 6,
   "id": "5794aec9",
   "metadata": {},
   "outputs": [
    {
     "data": {
      "text/html": [
       "<div>\n",
       "<style scoped>\n",
       "    .dataframe tbody tr th:only-of-type {\n",
       "        vertical-align: middle;\n",
       "    }\n",
       "\n",
       "    .dataframe tbody tr th {\n",
       "        vertical-align: top;\n",
       "    }\n",
       "\n",
       "    .dataframe thead th {\n",
       "        text-align: right;\n",
       "    }\n",
       "</style>\n",
       "<table border=\"1\" class=\"dataframe\">\n",
       "  <thead>\n",
       "    <tr style=\"text-align: right;\">\n",
       "      <th></th>\n",
       "      <th>Open</th>\n",
       "      <th>High</th>\n",
       "      <th>Low</th>\n",
       "      <th>Close</th>\n",
       "      <th>Volume</th>\n",
       "      <th>Symbol</th>\n",
       "    </tr>\n",
       "  </thead>\n",
       "  <tbody>\n",
       "    <tr>\n",
       "      <th>0</th>\n",
       "      <td>3.37</td>\n",
       "      <td>3.3700</td>\n",
       "      <td>3.3700</td>\n",
       "      <td>3.3700</td>\n",
       "      <td>175</td>\n",
       "      <td>PPSI</td>\n",
       "    </tr>\n",
       "    <tr>\n",
       "      <th>1</th>\n",
       "      <td>3.36</td>\n",
       "      <td>3.3600</td>\n",
       "      <td>3.3300</td>\n",
       "      <td>3.3300</td>\n",
       "      <td>1889</td>\n",
       "      <td>PPSI</td>\n",
       "    </tr>\n",
       "    <tr>\n",
       "      <th>2</th>\n",
       "      <td>3.33</td>\n",
       "      <td>3.3932</td>\n",
       "      <td>3.3296</td>\n",
       "      <td>3.3932</td>\n",
       "      <td>2630</td>\n",
       "      <td>PPSI</td>\n",
       "    </tr>\n",
       "    <tr>\n",
       "      <th>3</th>\n",
       "      <td>3.33</td>\n",
       "      <td>3.3300</td>\n",
       "      <td>3.3200</td>\n",
       "      <td>3.3200</td>\n",
       "      <td>1350</td>\n",
       "      <td>PPSI</td>\n",
       "    </tr>\n",
       "    <tr>\n",
       "      <th>4</th>\n",
       "      <td>3.33</td>\n",
       "      <td>3.3300</td>\n",
       "      <td>3.3300</td>\n",
       "      <td>3.3300</td>\n",
       "      <td>173</td>\n",
       "      <td>PPSI</td>\n",
       "    </tr>\n",
       "  </tbody>\n",
       "</table>\n",
       "</div>"
      ],
      "text/plain": [
       "   Open    High     Low   Close  Volume Symbol\n",
       "0  3.37  3.3700  3.3700  3.3700     175   PPSI\n",
       "1  3.36  3.3600  3.3300  3.3300    1889   PPSI\n",
       "2  3.33  3.3932  3.3296  3.3932    2630   PPSI\n",
       "3  3.33  3.3300  3.3200  3.3200    1350   PPSI\n",
       "4  3.33  3.3300  3.3300  3.3300     173   PPSI"
      ]
     },
     "execution_count": 6,
     "metadata": {},
     "output_type": "execute_result"
    }
   ],
   "source": [
    "data=pd.read_csv(r'C:\\Users\\bathma\\Desktop\\short squeeze stock data.csv') \n",
    "data.head()"
   ]
  },
  {
   "cell_type": "code",
   "execution_count": 20,
   "id": "6d4bad0f",
   "metadata": {},
   "outputs": [],
   "source": [
    "data.columns=['Open','High','Low','Close','Volume','symbol']\n",
    "col_names=list(data.columns)\n",
    "predictors=col_names[0:5]\n",
    "target=col_names[5]  "
   ]
  },
  {
   "cell_type": "code",
   "execution_count": 28,
   "id": "f5a92486",
   "metadata": {},
   "outputs": [],
   "source": [
    "from sklearn.model_selection import train_test_split\n",
    "\n",
    "train,test=train_test_split(data,test_size=0.2,random_state=0) "
   ]
  },
  {
   "cell_type": "code",
   "execution_count": 34,
   "id": "cc314e07",
   "metadata": {},
   "outputs": [],
   "source": [
    "Gmodel=GaussianNB()\n",
    "Gmodel.fit(train[predictors],train[target])\n",
    "train_Gpred=Gmodel.predict(train[predictors])\n",
    "test_Gpred=Gmodel.predict(test[predictors])  "
   ]
  },
  {
   "cell_type": "code",
   "execution_count": 36,
   "id": "a9b934db",
   "metadata": {},
   "outputs": [
    {
     "name": "stdout",
     "output_type": "stream",
     "text": [
      "training accuracy 0.3523629395515516\n",
      "testing accuracy 0.35695799323113675\n"
     ]
    }
   ],
   "source": [
    "train_acc_gau=np.mean(train_Gpred==train[target])\n",
    "test_acc_gau=np.mean(test_Gpred==test[target])\n",
    "print('training accuracy', train_acc_gau)  \n",
    "print('testing accuracy',test_acc_gau)"
   ]
  },
  {
   "cell_type": "code",
   "execution_count": 37,
   "id": "6128d3a8",
   "metadata": {},
   "outputs": [],
   "source": [
    "from sklearn.naive_bayes import MultinomialNB # regression better \n",
    "Mmodel=MultinomialNB()\n",
    "Mmodel.fit(train[predictors],train[target])\n",
    "train_Mpred=Mmodel.predict(train[predictors]) \n",
    "test_Mpred=Mmodel.predict(test[predictors]) "
   ]
  },
  {
   "cell_type": "code",
   "execution_count": 38,
   "id": "d4c6a72a",
   "metadata": {},
   "outputs": [
    {
     "name": "stdout",
     "output_type": "stream",
     "text": [
      "training accuracy 0.23340716223278501\n",
      "testing accuracy 0.23850288672108302\n"
     ]
    }
   ],
   "source": [
    "train_acc_multi=np.mean(train_Mpred==train[target]) \n",
    "test_acc_multi=np.mean(test_Mpred==test[target])\n",
    "print('training accuracy',train_acc_multi) \n",
    "print('testing accuracy',test_acc_multi) "
   ]
  },
  {
   "cell_type": "code",
   "execution_count": null,
   "id": "bdb915ad",
   "metadata": {},
   "outputs": [],
   "source": []
  }
 ],
 "metadata": {
  "kernelspec": {
   "display_name": "Python 3 (ipykernel)",
   "language": "python",
   "name": "python3"
  },
  "language_info": {
   "codemirror_mode": {
    "name": "ipython",
    "version": 3
   },
   "file_extension": ".py",
   "mimetype": "text/x-python",
   "name": "python",
   "nbconvert_exporter": "python",
   "pygments_lexer": "ipython3",
   "version": "3.9.7"
  }
 },
 "nbformat": 4,
 "nbformat_minor": 5
}
