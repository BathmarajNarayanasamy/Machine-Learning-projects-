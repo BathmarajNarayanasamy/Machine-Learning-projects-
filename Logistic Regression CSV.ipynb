{
 "cells": [
  {
   "cell_type": "code",
   "execution_count": 51,
   "id": "b8a11b54",
   "metadata": {},
   "outputs": [],
   "source": [
    "import pandas as pd\n",
    "import numpy as np\n",
    "import matplotlib.pyplot as plt \n",
    "from sklearn.preprocessing import StandardScaler\n",
    "from sklearn.linear_model import LogisticRegression\n",
    "from sklearn.model_selection import train_test_split\n",
    "from sklearn.metrics import accuracy_score,classification_report,confusion_matrix"
   ]
  },
  {
   "cell_type": "code",
   "execution_count": 52,
   "id": "6fcd58cc",
   "metadata": {},
   "outputs": [
    {
     "name": "stdout",
     "output_type": "stream",
     "text": [
      "<class 'pandas.core.frame.DataFrame'>\n",
      "Int64Index: 1129 entries, 1 to 0\n",
      "Data columns (total 7 columns):\n",
      " #   Column        Non-Null Count  Dtype  \n",
      "---  ------        --------------  -----  \n",
      " 0   stag          1129 non-null   float64\n",
      " 1   age           1129 non-null   float64\n",
      " 2   extraversion  1129 non-null   float64\n",
      " 3   independ      1129 non-null   float64\n",
      " 4   selfcontrol   1129 non-null   float64\n",
      " 5   anxiety       1129 non-null   float64\n",
      " 6   novator       1129 non-null   float64\n",
      "dtypes: float64(7)\n",
      "memory usage: 70.6 KB\n",
      "None\n",
      "            stag   age  extraversion  independ  selfcontrol  anxiety  novator\n",
      "event                                                                        \n",
      "1       7.030801  35.0           6.2       4.1          5.7      7.1      8.3\n",
      "1      22.965092  33.0           6.2       4.1          5.7      7.1      8.3\n",
      "1      15.934292  35.0           6.2       6.2          2.6      4.8      8.3\n",
      "1      15.934292  35.0           5.4       7.6          4.9      2.5      6.7\n",
      "1       8.410678  32.0           3.0       4.1          8.0      7.1      3.7\n"
     ]
    }
   ],
   "source": [
    "df=pd.read_csv(r'C:\\Users\\bathma\\Desktop\\turnover.csv',index_col=1)\n",
    "print(df.info())\n",
    "print(df.head())\n"
   ]
  },
  {
   "cell_type": "code",
   "execution_count": 53,
   "id": "86091cf3",
   "metadata": {},
   "outputs": [
    {
     "data": {
      "text/plain": [
       "(1129, 7)"
      ]
     },
     "execution_count": 53,
     "metadata": {},
     "output_type": "execute_result"
    }
   ],
   "source": [
    "df.shape"
   ]
  },
  {
   "cell_type": "code",
   "execution_count": 54,
   "id": "5a42e86b",
   "metadata": {},
   "outputs": [],
   "source": [
    "cols=['stag','event','age','extraversion','independ','selfcontrol','anxiety','novator']"
   ]
  },
  {
   "cell_type": "code",
   "execution_count": 66,
   "id": "cbce638d",
   "metadata": {},
   "outputs": [
    {
     "name": "stdout",
     "output_type": "stream",
     "text": [
      "             stag   age  extraversion  independ  selfcontrol  anxiety  novator\n",
      "event                                                                         \n",
      "1        7.030801  35.0           6.2       4.1          5.7      7.1      8.3\n",
      "1       22.965092  33.0           6.2       4.1          5.7      7.1      8.3\n",
      "1       15.934292  35.0           6.2       6.2          2.6      4.8      8.3\n",
      "1       15.934292  35.0           5.4       7.6          4.9      2.5      6.7\n",
      "1        8.410678  32.0           3.0       4.1          8.0      7.1      3.7\n",
      "...           ...   ...           ...       ...          ...      ...      ...\n",
      "0       10.611910  41.0           8.6       3.4          2.6      4.8      8.3\n",
      "0       10.611910  41.0           8.6       3.4          2.6      4.8      8.3\n",
      "0      118.800821  34.0           4.6       5.5          7.2      6.3      3.7\n",
      "0       49.412731  51.0           3.8       7.6          5.7      6.3      5.2\n",
      "0       24.837782  29.0           9.4       1.2          4.1      5.6      6.7\n",
      "\n",
      "[1129 rows x 7 columns]\n"
     ]
    }
   ],
   "source": [
    "print(X)\n"
   ]
  },
  {
   "cell_type": "code",
   "execution_count": 67,
   "id": "f42437d6",
   "metadata": {},
   "outputs": [
    {
     "name": "stdout",
     "output_type": "stream",
     "text": [
      "0       1\n",
      "1       1\n",
      "2       1\n",
      "3       1\n",
      "4       1\n",
      "       ..\n",
      "1124    0\n",
      "1125    0\n",
      "1126    0\n",
      "1127    0\n",
      "1128    0\n",
      "Name: event, Length: 1129, dtype: int64\n"
     ]
    }
   ],
   "source": [
    "print(y)"
   ]
  },
  {
   "cell_type": "code",
   "execution_count": null,
   "id": "e3aba2ad",
   "metadata": {},
   "outputs": [],
   "source": [
    "Xtrain,Xtest,ytrain,ytest=train_test_split(X,y,test_size=0.3)\n"
   ]
  },
  {
   "cell_type": "code",
   "execution_count": 61,
   "id": "f099a2e7",
   "metadata": {},
   "outputs": [
    {
     "data": {
      "text/plain": [
       "(790, 7)"
      ]
     },
     "execution_count": 61,
     "metadata": {},
     "output_type": "execute_result"
    }
   ],
   "source": [
    "Xtrain.shape"
   ]
  },
  {
   "cell_type": "code",
   "execution_count": 60,
   "id": "e415d630",
   "metadata": {},
   "outputs": [
    {
     "data": {
      "text/plain": [
       "(790,)"
      ]
     },
     "execution_count": 60,
     "metadata": {},
     "output_type": "execute_result"
    }
   ],
   "source": [
    "ytrain.shape"
   ]
  },
  {
   "cell_type": "code",
   "execution_count": 59,
   "id": "f69db8d9",
   "metadata": {},
   "outputs": [
    {
     "data": {
      "text/plain": [
       "(339, 7)"
      ]
     },
     "execution_count": 59,
     "metadata": {},
     "output_type": "execute_result"
    }
   ],
   "source": [
    "Xtest.shape"
   ]
  },
  {
   "cell_type": "code",
   "execution_count": 58,
   "id": "47487706",
   "metadata": {},
   "outputs": [
    {
     "name": "stdout",
     "output_type": "stream",
     "text": [
      "[1 1 1 0 0 0 0 1 0]\n",
      "0.528023598820059\n",
      "              precision    recall  f1-score   support\n",
      "\n",
      "           0       0.55      0.44      0.49       173\n",
      "           1       0.52      0.62      0.56       166\n",
      "\n",
      "    accuracy                           0.53       339\n",
      "   macro avg       0.53      0.53      0.53       339\n",
      "weighted avg       0.53      0.53      0.52       339\n",
      "\n"
     ]
    }
   ],
   "source": [
    "model = LogisticRegression()\n",
    "logistic_fit = model.fit(Xtrain,ytrain)\n",
    "\n",
    "predictions = logistic_fit.predict(Xtest)\n",
    "print(predictions[1:10])\n",
    "print(model.score(Xtest,ytest))\n",
    "\n",
    "\n",
    "print(classification_report(ytest,predictions))"
   ]
  },
  {
   "cell_type": "code",
   "execution_count": 57,
   "id": "6bc790b2",
   "metadata": {},
   "outputs": [
    {
     "data": {
      "text/plain": [
       "array([[ 76,  97],\n",
       "       [ 63, 103]], dtype=int64)"
      ]
     },
     "execution_count": 57,
     "metadata": {},
     "output_type": "execute_result"
    }
   ],
   "source": [
    "confusion_matrix(ytest,predictions)"
   ]
  },
  {
   "cell_type": "code",
   "execution_count": 56,
   "id": "aaf3bf63",
   "metadata": {},
   "outputs": [
    {
     "data": {
      "text/plain": [
       "0.528023598820059"
      ]
     },
     "execution_count": 56,
     "metadata": {},
     "output_type": "execute_result"
    }
   ],
   "source": [
    "accuracy_score(ytest,predictions)"
   ]
  },
  {
   "cell_type": "code",
   "execution_count": null,
   "id": "660c1539",
   "metadata": {},
   "outputs": [],
   "source": []
  }
 ],
 "metadata": {
  "kernelspec": {
   "display_name": "Python 3 (ipykernel)",
   "language": "python",
   "name": "python3"
  },
  "language_info": {
   "codemirror_mode": {
    "name": "ipython",
    "version": 3
   },
   "file_extension": ".py",
   "mimetype": "text/x-python",
   "name": "python",
   "nbconvert_exporter": "python",
   "pygments_lexer": "ipython3",
   "version": "3.9.7"
  }
 },
 "nbformat": 4,
 "nbformat_minor": 5
}
