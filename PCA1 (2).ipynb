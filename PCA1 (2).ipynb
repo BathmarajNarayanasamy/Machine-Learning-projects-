{
 "cells": [
  {
   "cell_type": "code",
   "execution_count": 26,
   "id": "29a300a1",
   "metadata": {},
   "outputs": [],
   "source": [
    "import pandas as pd\n",
    "import numpy as np\n",
    "import matplotlib.pyplot as plt\n",
    "from sklearn.preprocessing import StandardScaler\n",
    "from sklearn.decomposition import PCA\n"
   ]
  },
  {
   "cell_type": "code",
   "execution_count": 58,
   "id": "9f8ca6ae",
   "metadata": {},
   "outputs": [],
   "source": [
    "data=pd.read_csv(r'C:\\Users\\bathma\\Desktop\\pca datasqeeze stock.csv')"
   ]
  },
  {
   "cell_type": "code",
   "execution_count": 63,
   "id": "2de485fb",
   "metadata": {},
   "outputs": [
    {
     "data": {
      "text/html": [
       "<div>\n",
       "<style scoped>\n",
       "    .dataframe tbody tr th:only-of-type {\n",
       "        vertical-align: middle;\n",
       "    }\n",
       "\n",
       "    .dataframe tbody tr th {\n",
       "        vertical-align: top;\n",
       "    }\n",
       "\n",
       "    .dataframe thead th {\n",
       "        text-align: right;\n",
       "    }\n",
       "</style>\n",
       "<table border=\"1\" class=\"dataframe\">\n",
       "  <thead>\n",
       "    <tr style=\"text-align: right;\">\n",
       "      <th></th>\n",
       "      <th>Open</th>\n",
       "      <th>High</th>\n",
       "      <th>Low</th>\n",
       "      <th>Close</th>\n",
       "      <th>Volume</th>\n",
       "      <th>Symbol</th>\n",
       "    </tr>\n",
       "  </thead>\n",
       "  <tbody>\n",
       "    <tr>\n",
       "      <th>0</th>\n",
       "      <td>3.37</td>\n",
       "      <td>3.3700</td>\n",
       "      <td>3.3700</td>\n",
       "      <td>3.3700</td>\n",
       "      <td>175.0</td>\n",
       "      <td>PPSI</td>\n",
       "    </tr>\n",
       "    <tr>\n",
       "      <th>1</th>\n",
       "      <td>3.36</td>\n",
       "      <td>3.3600</td>\n",
       "      <td>3.3300</td>\n",
       "      <td>3.3300</td>\n",
       "      <td>1889.0</td>\n",
       "      <td>PPSI</td>\n",
       "    </tr>\n",
       "    <tr>\n",
       "      <th>2</th>\n",
       "      <td>3.33</td>\n",
       "      <td>3.3932</td>\n",
       "      <td>3.3296</td>\n",
       "      <td>3.3932</td>\n",
       "      <td>2630.0</td>\n",
       "      <td>PPSI</td>\n",
       "    </tr>\n",
       "    <tr>\n",
       "      <th>3</th>\n",
       "      <td>3.33</td>\n",
       "      <td>3.3300</td>\n",
       "      <td>3.3200</td>\n",
       "      <td>3.3200</td>\n",
       "      <td>1350.0</td>\n",
       "      <td>PPSI</td>\n",
       "    </tr>\n",
       "    <tr>\n",
       "      <th>4</th>\n",
       "      <td>3.33</td>\n",
       "      <td>3.3300</td>\n",
       "      <td>3.3300</td>\n",
       "      <td>3.3300</td>\n",
       "      <td>173.0</td>\n",
       "      <td>PPSI</td>\n",
       "    </tr>\n",
       "  </tbody>\n",
       "</table>\n",
       "</div>"
      ],
      "text/plain": [
       "   Open    High     Low   Close  Volume Symbol\n",
       "0  3.37  3.3700  3.3700  3.3700   175.0   PPSI\n",
       "1  3.36  3.3600  3.3300  3.3300  1889.0   PPSI\n",
       "2  3.33  3.3932  3.3296  3.3932  2630.0   PPSI\n",
       "3  3.33  3.3300  3.3200  3.3200  1350.0   PPSI\n",
       "4  3.33  3.3300  3.3300  3.3300   173.0   PPSI"
      ]
     },
     "execution_count": 63,
     "metadata": {},
     "output_type": "execute_result"
    }
   ],
   "source": [
    "data.head()"
   ]
  },
  {
   "cell_type": "code",
   "execution_count": 65,
   "id": "79720de9",
   "metadata": {},
   "outputs": [],
   "source": [
    "feature=['Open','Volume','Low','Close','Volume']\n"
   ]
  },
  {
   "cell_type": "code",
   "execution_count": 67,
   "id": "9d58e57b",
   "metadata": {},
   "outputs": [],
   "source": [
    "X=data.loc[:,feature]\n",
    "y=data.loc[:,'Symbol']"
   ]
  },
  {
   "cell_type": "code",
   "execution_count": 68,
   "id": "5e559a55",
   "metadata": {},
   "outputs": [],
   "source": [
    "X=StandardScaler().fit_transform(X)\n"
   ]
  },
  {
   "cell_type": "code",
   "execution_count": 69,
   "id": "d4b2cc8a",
   "metadata": {},
   "outputs": [],
   "source": [
    "#Converting PCA excecution and projection to 2D\n",
    "from sklearn.decomposition import PCA\n"
   ]
  },
  {
   "cell_type": "code",
   "execution_count": 70,
   "id": "3b3a84f7",
   "metadata": {},
   "outputs": [],
   "source": [
    "pca=PCA(n_components=2)\n",
    "pct=pca.fit_transform(X)\n",
    "principal_data=pd.DataFrame(pct,columns=['PC1','PC2'])\n",
    "final_data=pd.concat([principal_data,data[['Symbol']]],axis=1)\n"
   ]
  },
  {
   "cell_type": "code",
   "execution_count": 72,
   "id": "9b99cb23",
   "metadata": {},
   "outputs": [
    {
     "data": {
      "text/html": [
       "<div>\n",
       "<style scoped>\n",
       "    .dataframe tbody tr th:only-of-type {\n",
       "        vertical-align: middle;\n",
       "    }\n",
       "\n",
       "    .dataframe tbody tr th {\n",
       "        vertical-align: top;\n",
       "    }\n",
       "\n",
       "    .dataframe thead th {\n",
       "        text-align: right;\n",
       "    }\n",
       "</style>\n",
       "<table border=\"1\" class=\"dataframe\">\n",
       "  <thead>\n",
       "    <tr style=\"text-align: right;\">\n",
       "      <th></th>\n",
       "      <th>PC1</th>\n",
       "      <th>PC2</th>\n",
       "      <th>Symbol</th>\n",
       "    </tr>\n",
       "  </thead>\n",
       "  <tbody>\n",
       "    <tr>\n",
       "      <th>0</th>\n",
       "      <td>0.634323</td>\n",
       "      <td>-0.566112</td>\n",
       "      <td>PPSI</td>\n",
       "    </tr>\n",
       "    <tr>\n",
       "      <th>1</th>\n",
       "      <td>0.635716</td>\n",
       "      <td>-0.563394</td>\n",
       "      <td>PPSI</td>\n",
       "    </tr>\n",
       "    <tr>\n",
       "      <th>2</th>\n",
       "      <td>0.635738</td>\n",
       "      <td>-0.562086</td>\n",
       "      <td>PPSI</td>\n",
       "    </tr>\n",
       "    <tr>\n",
       "      <th>3</th>\n",
       "      <td>0.635912</td>\n",
       "      <td>-0.564395</td>\n",
       "      <td>PPSI</td>\n",
       "    </tr>\n",
       "    <tr>\n",
       "      <th>4</th>\n",
       "      <td>0.635294</td>\n",
       "      <td>-0.566339</td>\n",
       "      <td>PPSI</td>\n",
       "    </tr>\n",
       "  </tbody>\n",
       "</table>\n",
       "</div>"
      ],
      "text/plain": [
       "        PC1       PC2 Symbol\n",
       "0  0.634323 -0.566112   PPSI\n",
       "1  0.635716 -0.563394   PPSI\n",
       "2  0.635738 -0.562086   PPSI\n",
       "3  0.635912 -0.564395   PPSI\n",
       "4  0.635294 -0.566339   PPSI"
      ]
     },
     "execution_count": 72,
     "metadata": {},
     "output_type": "execute_result"
    }
   ],
   "source": [
    "final_data.head()"
   ]
  },
  {
   "cell_type": "code",
   "execution_count": 73,
   "id": "61045a6d",
   "metadata": {},
   "outputs": [
    {
     "data": {
      "text/plain": [
       "array([0.61117786, 0.38881402])"
      ]
     },
     "execution_count": 73,
     "metadata": {},
     "output_type": "execute_result"
    },
    {
     "data": {
      "image/png": "[encoded data removed]",
      "text/plain": [
       "<Figure size 576x576 with 1 Axes>"
      ]
     },
     "metadata": {
      "needs_background": "light"
     },
     "output_type": "display_data"
    }
   ],
   "source": [
    "fig=plt.figure(figsize=(8,8))\n",
    "ax=fig.add_subplot(1,1,1)\n",
    "ax.set_xlabel('PC1')\n",
    "ax.set_ylabel('PC2')\n",
    "ax.set_title('Two Component PCA')\n",
    "targets=['BMTX','GME','ISPC','LGVN','PPSI','PROG','PTPI','QLGN']\n",
    "colors=['b','g','m']\n",
    "for target,color in zip(targets,colors):\n",
    "    index=final_data['Symbol']==target\n",
    "    ax.scatter(final_data.loc[index,'PC1'],final_data.loc[index,'PC2'],c=color,s=40)\n",
    "    ax.legend(targets)\n",
    "    ax.grid()\n",
    "plt.plot(X,y)\n",
    "pca.explained_variance_ratio_"
   ]
  },
  {
   "cell_type": "code",
   "execution_count": 74,
   "id": "6998837a",
   "metadata": {},
   "outputs": [
    {
     "data": {
      "text/html": [
       "<div>\n",
       "<style scoped>\n",
       "    .dataframe tbody tr th:only-of-type {\n",
       "        vertical-align: middle;\n",
       "    }\n",
       "\n",
       "    .dataframe tbody tr th {\n",
       "        vertical-align: top;\n",
       "    }\n",
       "\n",
       "    .dataframe thead th {\n",
       "        text-align: right;\n",
       "    }\n",
       "</style>\n",
       "<table border=\"1\" class=\"dataframe\">\n",
       "  <thead>\n",
       "    <tr style=\"text-align: right;\">\n",
       "      <th></th>\n",
       "      <th>PC1</th>\n",
       "      <th>PC2</th>\n",
       "      <th>Symbol</th>\n",
       "    </tr>\n",
       "  </thead>\n",
       "  <tbody>\n",
       "    <tr>\n",
       "      <th>0</th>\n",
       "      <td>0.634323</td>\n",
       "      <td>-0.566112</td>\n",
       "      <td>PPSI</td>\n",
       "    </tr>\n",
       "    <tr>\n",
       "      <th>1</th>\n",
       "      <td>0.635716</td>\n",
       "      <td>-0.563394</td>\n",
       "      <td>PPSI</td>\n",
       "    </tr>\n",
       "    <tr>\n",
       "      <th>2</th>\n",
       "      <td>0.635738</td>\n",
       "      <td>-0.562086</td>\n",
       "      <td>PPSI</td>\n",
       "    </tr>\n",
       "    <tr>\n",
       "      <th>3</th>\n",
       "      <td>0.635912</td>\n",
       "      <td>-0.564395</td>\n",
       "      <td>PPSI</td>\n",
       "    </tr>\n",
       "    <tr>\n",
       "      <th>4</th>\n",
       "      <td>0.635294</td>\n",
       "      <td>-0.566339</td>\n",
       "      <td>PPSI</td>\n",
       "    </tr>\n",
       "    <tr>\n",
       "      <th>...</th>\n",
       "      <td>...</td>\n",
       "      <td>...</td>\n",
       "      <td>...</td>\n",
       "    </tr>\n",
       "    <tr>\n",
       "      <th>50224</th>\n",
       "      <td>0.681037</td>\n",
       "      <td>-0.563683</td>\n",
       "      <td>QLGN</td>\n",
       "    </tr>\n",
       "    <tr>\n",
       "      <th>50225</th>\n",
       "      <td>0.709795</td>\n",
       "      <td>-0.441689</td>\n",
       "      <td>QLGN</td>\n",
       "    </tr>\n",
       "    <tr>\n",
       "      <th>50226</th>\n",
       "      <td>0.679600</td>\n",
       "      <td>-0.571409</td>\n",
       "      <td>QLGN</td>\n",
       "    </tr>\n",
       "    <tr>\n",
       "      <th>50227</th>\n",
       "      <td>0.681408</td>\n",
       "      <td>-0.563931</td>\n",
       "      <td>QLGN</td>\n",
       "    </tr>\n",
       "    <tr>\n",
       "      <th>50228</th>\n",
       "      <td>0.712362</td>\n",
       "      <td>-0.430171</td>\n",
       "      <td>QLGN</td>\n",
       "    </tr>\n",
       "  </tbody>\n",
       "</table>\n",
       "<p>50229 rows × 3 columns</p>\n",
       "</div>"
      ],
      "text/plain": [
       "            PC1       PC2 Symbol\n",
       "0      0.634323 -0.566112   PPSI\n",
       "1      0.635716 -0.563394   PPSI\n",
       "2      0.635738 -0.562086   PPSI\n",
       "3      0.635912 -0.564395   PPSI\n",
       "4      0.635294 -0.566339   PPSI\n",
       "...         ...       ...    ...\n",
       "50224  0.681037 -0.563683   QLGN\n",
       "50225  0.709795 -0.441689   QLGN\n",
       "50226  0.679600 -0.571409   QLGN\n",
       "50227  0.681408 -0.563931   QLGN\n",
       "50228  0.712362 -0.430171   QLGN\n",
       "\n",
       "[50229 rows x 3 columns]"
      ]
     },
     "execution_count": 74,
     "metadata": {},
     "output_type": "execute_result"
    }
   ],
   "source": [
    "final_data"
   ]
  },
  {
   "cell_type": "code",
   "execution_count": null,
   "id": "0723ad62",
   "metadata": {},
   "outputs": [],
   "source": []
  }
 ],
 "metadata": {
  "kernelspec": {
   "display_name": "Python 3 (ipykernel)",
   "language": "python",
   "name": "python3"
  },
  "language_info": {
   "codemirror_mode": {
    "name": "ipython",
    "version": 3
   },
   "file_extension": ".py",
   "mimetype": "text/x-python",
   "name": "python",
   "nbconvert_exporter": "python",
   "pygments_lexer": "ipython3",
   "version": "3.9.7"
  }
 },
 "nbformat": 4,
 "nbformat_minor": 5
}
