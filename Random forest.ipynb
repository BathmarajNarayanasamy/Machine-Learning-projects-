{
 "cells": [
  {
   "cell_type": "code",
   "execution_count": 54,
   "id": "fbfd2996",
   "metadata": {},
   "outputs": [],
   "source": [
    "import pandas as pd\n",
    "import numpy as np\n",
    "import matplotlib.pyplot as plt\n",
    "from sklearn.model_selection import train_test_split\n",
    "from sklearn.ensemble import RandomForestClassifier\n"
   ]
  },
  {
   "cell_type": "code",
   "execution_count": 39,
   "id": "731fd598",
   "metadata": {},
   "outputs": [
    {
     "data": {
      "text/html": [
       "<div>\n",
       "<style scoped>\n",
       "    .dataframe tbody tr th:only-of-type {\n",
       "        vertical-align: middle;\n",
       "    }\n",
       "\n",
       "    .dataframe tbody tr th {\n",
       "        vertical-align: top;\n",
       "    }\n",
       "\n",
       "    .dataframe thead th {\n",
       "        text-align: right;\n",
       "    }\n",
       "</style>\n",
       "<table border=\"1\" class=\"dataframe\">\n",
       "  <thead>\n",
       "    <tr style=\"text-align: right;\">\n",
       "      <th></th>\n",
       "      <th>Datetime</th>\n",
       "      <th>Open</th>\n",
       "      <th>High</th>\n",
       "      <th>Low</th>\n",
       "      <th>Close</th>\n",
       "      <th>Volume</th>\n",
       "      <th>Symbol</th>\n",
       "    </tr>\n",
       "  </thead>\n",
       "  <tbody>\n",
       "    <tr>\n",
       "      <th>0</th>\n",
       "      <td>44502.40</td>\n",
       "      <td>3.37</td>\n",
       "      <td>3.3700</td>\n",
       "      <td>3.3700</td>\n",
       "      <td>3.3700</td>\n",
       "      <td>175.0</td>\n",
       "      <td>PPSI</td>\n",
       "    </tr>\n",
       "    <tr>\n",
       "      <th>1</th>\n",
       "      <td>44502.40</td>\n",
       "      <td>3.36</td>\n",
       "      <td>3.3600</td>\n",
       "      <td>3.3300</td>\n",
       "      <td>3.3300</td>\n",
       "      <td>1889.0</td>\n",
       "      <td>PPSI</td>\n",
       "    </tr>\n",
       "    <tr>\n",
       "      <th>2</th>\n",
       "      <td>44502.41</td>\n",
       "      <td>3.33</td>\n",
       "      <td>3.3932</td>\n",
       "      <td>3.3296</td>\n",
       "      <td>3.3932</td>\n",
       "      <td>2630.0</td>\n",
       "      <td>PPSI</td>\n",
       "    </tr>\n",
       "    <tr>\n",
       "      <th>3</th>\n",
       "      <td>44502.41</td>\n",
       "      <td>3.33</td>\n",
       "      <td>3.3300</td>\n",
       "      <td>3.3200</td>\n",
       "      <td>3.3200</td>\n",
       "      <td>1350.0</td>\n",
       "      <td>PPSI</td>\n",
       "    </tr>\n",
       "    <tr>\n",
       "      <th>4</th>\n",
       "      <td>44502.41</td>\n",
       "      <td>3.33</td>\n",
       "      <td>3.3300</td>\n",
       "      <td>3.3300</td>\n",
       "      <td>3.3300</td>\n",
       "      <td>173.0</td>\n",
       "      <td>PPSI</td>\n",
       "    </tr>\n",
       "  </tbody>\n",
       "</table>\n",
       "</div>"
      ],
      "text/plain": [
       "   Datetime  Open    High     Low   Close  Volume Symbol\n",
       "0  44502.40  3.37  3.3700  3.3700  3.3700   175.0   PPSI\n",
       "1  44502.40  3.36  3.3600  3.3300  3.3300  1889.0   PPSI\n",
       "2  44502.41  3.33  3.3932  3.3296  3.3932  2630.0   PPSI\n",
       "3  44502.41  3.33  3.3300  3.3200  3.3200  1350.0   PPSI\n",
       "4  44502.41  3.33  3.3300  3.3300  3.3300   173.0   PPSI"
      ]
     },
     "execution_count": 39,
     "metadata": {},
     "output_type": "execute_result"
    }
   ],
   "source": [
    "data=pd.read_csv(r'C:\\Users\\bathma\\Desktop\\short squeeze stock data.csv')\n",
    "data.head()"
   ]
  },
  {
   "cell_type": "code",
   "execution_count": 30,
   "id": "078d681c",
   "metadata": {},
   "outputs": [],
   "source": [
    "X=data.iloc[:,:-1].values\n",
    "y=data.iloc[:,6].values"
   ]
  },
  {
   "cell_type": "code",
   "execution_count": 49,
   "id": "830de13d",
   "metadata": {},
   "outputs": [],
   "source": [
    "Xtrain,Xtest,ytrain,ytest=train_test_split(X,y,test_size=0.3)\n"
   ]
  },
  {
   "cell_type": "code",
   "execution_count": 50,
   "id": "d7a4a62d",
   "metadata": {},
   "outputs": [
    {
     "name": "stdout",
     "output_type": "stream",
     "text": [
      "<class 'pandas.core.frame.DataFrame'>\n",
      "RangeIndex: 50229 entries, 0 to 50228\n",
      "Data columns (total 7 columns):\n",
      " #   Column    Non-Null Count  Dtype  \n",
      "---  ------    --------------  -----  \n",
      " 0   Datetime  50229 non-null  float64\n",
      " 1   Open      50229 non-null  float64\n",
      " 2   High      50229 non-null  float64\n",
      " 3   Low       50229 non-null  float64\n",
      " 4   Close     50229 non-null  float64\n",
      " 5   Volume    50229 non-null  float64\n",
      " 6   Symbol    50229 non-null  object \n",
      "dtypes: float64(6), object(1)\n",
      "memory usage: 2.7+ MB\n"
     ]
    }
   ],
   "source": [
    "data.info()"
   ]
  },
  {
   "cell_type": "code",
   "execution_count": 48,
   "id": "8ad53382",
   "metadata": {},
   "outputs": [
    {
     "data": {
      "text/plain": [
       "RandomForestClassifier(n_estimators=50)"
      ]
     },
     "execution_count": 48,
     "metadata": {},
     "output_type": "execute_result"
    }
   ],
   "source": [
    "classifier=RandomForestClassifier(n_estimators=50)\n",
    "classifier.fit(Xtrain,ytrain)"
   ]
  },
  {
   "cell_type": "code",
   "execution_count": 51,
   "id": "6c8c5cac",
   "metadata": {},
   "outputs": [
    {
     "name": "stdout",
     "output_type": "stream",
     "text": [
      "confusion matrix\n",
      "----------------\n",
      "[[1369    0    0    0    0    0    0    0]\n",
      " [   0 1930    0    0    0    0    0    0]\n",
      " [   0    0 1186    0    0    0    0    0]\n",
      " [   0    0    1 1791    0    2    0    0]\n",
      " [   0    0    0    0 1977    0    0    0]\n",
      " [   0    0    0    0    2 3229    0    0]\n",
      " [   0    0    0    0    0    1 2061    1]\n",
      " [   0    0    0    0    0    0    0 1519]]\n"
     ]
    }
   ],
   "source": [
    "from sklearn.metrics import accuracy_score,classification_report,confusion_matrix\n",
    "ypre=classifier.predict(Xtest)\n",
    "result=confusion_matrix(ytest,ypre)\n",
    "print('confusion matrix')\n",
    "print('----------------')\n",
    "print(result)\n"
   ]
  },
  {
   "cell_type": "code",
   "execution_count": 52,
   "id": "87b8bc91",
   "metadata": {},
   "outputs": [
    {
     "name": "stdout",
     "output_type": "stream",
     "text": [
      "accuracy score\n",
      "----------------\n",
      "0.9995354701705488\n"
     ]
    }
   ],
   "source": [
    "result1=accuracy_score(ytest,ypre)\n",
    "print('accuracy score')\n",
    "print('----------------')\n",
    "print(result1)"
   ]
  },
  {
   "cell_type": "code",
   "execution_count": 53,
   "id": "734ce652",
   "metadata": {},
   "outputs": [
    {
     "name": "stdout",
     "output_type": "stream",
     "text": [
      "classification report\n",
      "----------------\n",
      "              precision    recall  f1-score   support\n",
      "\n",
      "        BMTX       1.00      1.00      1.00      1369\n",
      "         GME       1.00      1.00      1.00      1930\n",
      "        ISPC       1.00      1.00      1.00      1186\n",
      "        LGVN       1.00      1.00      1.00      1794\n",
      "        PPSI       1.00      1.00      1.00      1977\n",
      "        PROG       1.00      1.00      1.00      3231\n",
      "        PTPI       1.00      1.00      1.00      2063\n",
      "        QLGN       1.00      1.00      1.00      1519\n",
      "\n",
      "    accuracy                           1.00     15069\n",
      "   macro avg       1.00      1.00      1.00     15069\n",
      "weighted avg       1.00      1.00      1.00     15069\n",
      "\n"
     ]
    }
   ],
   "source": [
    "result2=classification_report(ytest,ypre)\n",
    "print('classification report')\n",
    "print('----------------')\n",
    "print(result2)"
   ]
  },
  {
   "cell_type": "code",
   "execution_count": null,
   "id": "5da26f59",
   "metadata": {},
   "outputs": [],
   "source": []
  }
 ],
 "metadata": {
  "kernelspec": {
   "display_name": "Python 3 (ipykernel)",
   "language": "python",
   "name": "python3"
  },
  "language_info": {
   "codemirror_mode": {
    "name": "ipython",
    "version": 3
   },
   "file_extension": ".py",
   "mimetype": "text/x-python",
   "name": "python",
   "nbconvert_exporter": "python",
   "pygments_lexer": "ipython3",
   "version": "3.9.7"
  }
 },
 "nbformat": 4,
 "nbformat_minor": 5
}
